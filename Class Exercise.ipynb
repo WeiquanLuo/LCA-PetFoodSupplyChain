{
 "cells": [
  {
   "cell_type": "markdown",
   "metadata": {},
   "source": [
    "### Import the Dog and Cat food LCA data into the notbook"
   ]
  },
  {
   "cell_type": "code",
   "execution_count": null,
   "metadata": {},
   "outputs": [],
   "source": [
    "# import the package you need\n"
   ]
  },
  {
   "cell_type": "markdown",
   "metadata": {},
   "source": [
    "Use read csv method to read the file(data/dat_311111_1M_v2.csv) into data frame"
   ]
  },
  {
   "cell_type": "code",
   "execution_count": null,
   "metadata": {},
   "outputs": [],
   "source": [
    "dat = pd.read_csv(_____)\n",
    "dat = dat.drop([\"Unnamed: 0\"], axis = 1)\n",
    "dat.columns = dat.columns.str.replace(' ', '_')\n",
    "dat.columns = dat.columns.str.replace('/', '_')\n",
    "dat.shape"
   ]
  },
  {
   "cell_type": "code",
   "execution_count": null,
   "metadata": {},
   "outputs": [],
   "source": [
    "#Change data type for columns\n",
    "dat['Sector'] = dat['Sector'].astype('category')\n",
    "dat['Description'] = dat['Description'].astype('category')\n",
    "dat['name_sub'] = dat['name_sub'].astype('category')\n",
    "dat['Sector_sub'] = dat['Sector_sub'].astype('category')"
   ]
  },
  {
   "cell_type": "markdown",
   "metadata": {},
   "source": [
    "### Subset the data to select the feature to be analyzed"
   ]
  },
  {
   "cell_type": "code",
   "execution_count": null,
   "metadata": {},
   "outputs": [],
   "source": [
    "dat_cap = dat.loc[:, ['CO_t', 'NH3_t', 'NOx_t', 'PM10_t', 'PM2.5_t', 'SO2_t', 'VOC_t','Coal_TJ', 'NatGase_TJ', 'Petrol_TJ', 'Bio_Waste_TJ',\n",
    "       'NonFossElec_TJ']]\n",
    "dat_ghg = dat.loc[:,['CO2_Fossil_t_CO2e','CO2_Process_t_CO2e', 'CH4_t_CO2e', 'N2O_t_CO2e', 'HFC_PFCs_t_CO2e','Coal_TJ', 'NatGase_TJ', 'Petrol_TJ', 'Bio_Waste_TJ',\n",
    "       'NonFossElec_TJ','Water_Withdrawals_Kgal']]\n",
    "dat_toxic = dat.loc[:,['Fugitive_kg', 'Stack_kg', 'Total_Air_kg', 'Surface_water_kg','U_ground_Water_kg', 'Land_kg', 'Offiste_kg', 'POTW_Metal_kg','POTW_Nonmetal_kg','Coal_TJ', 'NatGase_TJ', 'Petrol_TJ', 'Bio_Waste_TJ',\n",
    "       'NonFossElec_TJ','Water_Withdrawals_Kgal']]"
   ]
  },
  {
   "cell_type": "markdown",
   "metadata": {},
   "source": [
    "### Perform clustering "
   ]
  },
  {
   "cell_type": "markdown",
   "metadata": {},
   "source": [
    "Select one subset data and doing the clustering using DBSCAN"
   ]
  },
  {
   "cell_type": "code",
   "execution_count": 1,
   "metadata": {},
   "outputs": [],
   "source": [
    "from sklearn.cluster import DBSCAN"
   ]
  },
  {
   "cell_type": "markdown",
   "metadata": {},
   "source": [
    "Using graph to detemin the apporiate eps value"
   ]
  },
  {
   "cell_type": "code",
   "execution_count": null,
   "metadata": {},
   "outputs": [],
   "source": [
    "import collections\n",
    "count = []\n",
    "for i in np.arange(___, ___, ___): \n",
    "    clustering = DBSCAN(eps= i).fit(___)\n",
    "    a = clustering.labels_\n",
    "    b = collections.Counter(a).get(-1)\n",
    "    count.append(b)"
   ]
  },
  {
   "cell_type": "code",
   "execution_count": null,
   "metadata": {},
   "outputs": [],
   "source": [
    "plt.plot(pd.Series(np.arange(___, ___, ____)),_____)"
   ]
  },
  {
   "cell_type": "markdown",
   "metadata": {},
   "source": [
    "Use the eps value detemined to get the clustering and determin the outlier, and analyze the which sector are these outliers coming from "
   ]
  },
  {
   "cell_type": "code",
   "execution_count": null,
   "metadata": {},
   "outputs": [],
   "source": []
  }
 ],
 "metadata": {
  "kernelspec": {
   "display_name": "Python 3",
   "language": "python",
   "name": "python3"
  },
  "language_info": {
   "codemirror_mode": {
    "name": "ipython",
    "version": 3
   },
   "file_extension": ".py",
   "mimetype": "text/x-python",
   "name": "python",
   "nbconvert_exporter": "python",
   "pygments_lexer": "ipython3",
   "version": "3.7.4"
  }
 },
 "nbformat": 4,
 "nbformat_minor": 2
}
